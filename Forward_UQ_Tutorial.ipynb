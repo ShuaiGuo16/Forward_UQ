{
 "cells": [
  {
   "cell_type": "markdown",
   "metadata": {},
   "source": [
    "# 1. Introduction\n",
    "\n",
    "### 1.1 Motivation \n",
    "\n",
    "Forward uncertainty quantification (UQ) analysis aims to quantify the model prediction uncertainty given the input data uncertainties, which include model parameter uncertainties, initial condition uncertainties, boundary condition uncertainties, etc. It is called \"forward\" as the uncertainty information flows from the input, throught the model, to the output. Forward UQ analysis is a crucial step towards robust decision-making, as the reliability of the model prediction results is carefully examined by taking into account the input data variabilities. \n",
    "\n",
    "### 1.2 Objective\n",
    "\n",
    "In this notebook, I will demonstrate how to perform a complete forward UQ analysis, starting with random sample generation, followed by uncertainty propagation, and ending with uncertainty visualization. \n",
    "\n",
    "### 1.3 Case study\n",
    "\n",
    "The case study we will consider employs an epidemic model to predict the spread of a disease in a population. In this case study, the number of initial infected individuals (initial condition) and the infection rate (model parameter) are considered as uncertain input data. Our output of interests are the maximum number of infected individuals during the disease spreading and when that happens. \n",
    "\n",
    "Therefore, by performing forward UQ analysis, we could better understand how the output of interests will vary under the influence of the uncertain input data. This information is vital for supporting effective and robust decision-making in disease spreading control.\n",
    "\n",
    "### 1.4 Notebook structure"
   ]
  },
  {
   "cell_type": "markdown",
   "metadata": {},
   "source": [
    "We will start by introducing the background of the investigated problem. Then, we will dive into the forward UQ analysis, which consists of the following three steps:\n",
    "\n",
    "1. Random sample generation. In this step, we will create representative samples of the uncertain input parameters via a Latin Hypercube method.\n",
    "\n",
    "2. Uncertainty propagation. In this step, we will employ a Monte Carlo approach to propagate uncertainty from the inputs to the outputs. \n",
    "\n",
    "3. Uncertainty visualization. In this step, we will visualize the output uncertainties using a technique called [**Hypothetical Outcome Plots**](https://towardsdatascience.com/uncertainty-visualization-made-easy-with-hypothetical-outcome-plots-89558574d069). \n",
    "\n",
    "Finally, we will discuss some of the challenges and possible solutions in performing forward UQ analysis in praactice."
   ]
  },
  {
   "cell_type": "markdown",
   "metadata": {},
   "source": []
  },
  {
   "cell_type": "code",
   "execution_count": null,
   "metadata": {},
   "outputs": [],
   "source": []
  }
 ],
 "metadata": {
  "kernelspec": {
   "display_name": "Python 3",
   "language": "python",
   "name": "python3"
  },
  "language_info": {
   "codemirror_mode": {
    "name": "ipython",
    "version": 3
   },
   "file_extension": ".py",
   "mimetype": "text/x-python",
   "name": "python",
   "nbconvert_exporter": "python",
   "pygments_lexer": "ipython3",
   "version": "3.8.5"
  }
 },
 "nbformat": 4,
 "nbformat_minor": 4
}
