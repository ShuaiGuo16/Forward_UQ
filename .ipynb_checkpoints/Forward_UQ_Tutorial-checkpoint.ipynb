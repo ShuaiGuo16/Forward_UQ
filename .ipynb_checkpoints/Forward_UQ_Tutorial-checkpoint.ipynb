{
 "cells": [
  {
   "cell_type": "markdown",
   "metadata": {},
   "source": [
    "# 1. Introduction\n",
    "\n",
    "### 1.1 Motivation \n",
    "\n",
    "Forward uncertainty quantification (UQ) analysis aims to quantify the model prediction uncertainty given the input data uncertainties, which include model parameter uncertainties, initial condition uncertainties, boundary condition uncertainties, etc. It is called \"forward\" as the uncertainty information flows from the input, throught the model, to the output. Forward UQ analysis is a crucial step towards robust decision-making, as the reliability of the model prediction results is carefully examined by taking into account the input data variabilities. \n",
    "\n",
    "### 1.2 Objective\n",
    "\n",
    "In this notebook, I will demonstrate how to perform a complete forward UQ analysis, starting with random sample generation, followed by uncertainty propagation, and ending with uncertainty visualization. \n",
    "\n",
    "### 1.3 Case study\n",
    "\n",
    "The case study we will consider employs an epidemic model to predict the spread of a disease in a population. In this case study, the number of initial infected individuals (initial condition) and the infection rate (model parameter) are considered as uncertain input data. Our output of interests are the maximum number of infected individuals during the disease spreading and when that happens. \n",
    "\n",
    "Therefore, by performing forward UQ analysis, we could better understand how the output of interests will vary under the influence of the uncertain input data. This information is vital for supporting effective and robust decision-making in disease spreading control.\n",
    "\n",
    "### 1.4 Notebook structure"
   ]
  },
  {
   "cell_type": "markdown",
   "metadata": {},
   "source": [
    "We will start by introducing the problem statement of the current case study. Then, we will dive into the forward UQ analysis, which consists of the following three steps:\n",
    "\n",
    "1. Random sample generation. In this step, we will create representative samples of the uncertain input parameters via a Latin Hypercube method.\n",
    "\n",
    "2. Uncertainty propagation. In this step, we will employ a Monte Carlo approach to propagate uncertainty from the inputs to the outputs. \n",
    "\n",
    "3. Uncertainty visualization. In this step, we will visualize the output uncertainties using a technique called [**Hypothetical Outcome Plots**](https://towardsdatascience.com/uncertainty-visualization-made-easy-with-hypothetical-outcome-plots-89558574d069). \n",
    "\n",
    "Finally, we will discuss some of the challenges and possible solutions in performing forward UQ analysis in praactice."
   ]
  },
  {
   "cell_type": "code",
   "execution_count": 21,
   "metadata": {},
   "outputs": [],
   "source": [
    "# import all packages and set plots to be embedded inline\n",
    "from pyDOE import lhs\n",
    "from scipy.integrate import odeint\n",
    "from scipy.stats.distributions import norm\n",
    "import pandas as pd\n",
    "import numpy as np\n",
    "import seaborn as sns\n",
    "import matplotlib.pyplot as plt\n",
    "from matplotlib import animation\n",
    "from IPython.display import HTML\n",
    "from celluloid import Camera\n",
    "\n",
    "%matplotlib inline\n",
    "np.set_printoptions(precision=2,suppress=True)\n",
    "np.random.seed(42)"
   ]
  },
  {
   "cell_type": "markdown",
   "metadata": {},
   "source": [
    "# 2. Problem Statement\n",
    "\n",
    "### 2.1 Background \n",
    "\n",
    "In this case study, we model the spread of a disease in a population by using the **SIR** model. In its basic form, this model divides the total population $N$ into three distinct compartments that vary as functions of time $t$:\n",
    "\n",
    "- $S(t)$, the number of individuals who are **S**usceptible but not yet infected with the disease;\n",
    "- $I(t)$, the number of individuals who are **I**nfected;\n",
    "- $R(t)$, the number of individuals who are have **R**ecovered from and immune to the disease.\n",
    "\n",
    "The SIR model describes the time evolution of the $S(t), I(t)$ and $R(t)$ populations with the following system of ordinary differential equations:\n",
    "\n",
    "\\begin{align}\n",
    "\\frac{dS}{dt} &= -\\frac{\\beta SI}{N}, \\\\\n",
    "\\frac{dI}{dt} &= \\frac{\\beta SI}{N} - \\gamma I, \\\\\n",
    "\\frac{dR}{dt} &= \\gamma I,\n",
    "\\end{align}\n",
    "\n",
    "where $\\beta$ denotes the infection rate and $\\gamma$ represents the recovery rate.\n",
    "\n",
    "### 2.2 Uncertainty analysis\n",
    "\n"
   ]
  },
  {
   "cell_type": "code",
   "execution_count": 135,
   "metadata": {},
   "outputs": [],
   "source": [
    "# Define the function to calculate S, I, R evolution\n",
    "def SIR_model(beta, gamma, t, N, I0, R0):\n",
    "    \"\"\"The function implements the SIR model to calculate \n",
    "    the disease spreading.\n",
    "    \n",
    "    Input:\n",
    "    - N: Population size\n",
    "    - I0, R0: Initial infected individuals and recovered/immunity individuals\n",
    "    - t: A grid of time points (in days)\n",
    "    - beta: Infection rate\n",
    "    - gamma: Recovery rate\n",
    "    \n",
    "    Output:\n",
    "    - S: Number of susceptible individuals\n",
    "    - I: Number of infected individuals\n",
    "    - R: Number of recovered/immune individuals\"\"\"\n",
    "    \n",
    "    def deriv(y, t, N, beta, gamma):\n",
    "        S, I, R = y\n",
    "        dSdt = -beta * S * I / N\n",
    "        dIdt = beta * S * I / N - gamma * I\n",
    "        dRdt = gamma * I\n",
    "        return dSdt, dIdt, dRdt\n",
    "    \n",
    "    ret = odeint(deriv, [S0, I0, R0], t, args=(N, beta, gamma))\n",
    "    \n",
    "    return ret.T "
   ]
  },
  {
   "cell_type": "code",
   "execution_count": 140,
   "metadata": {},
   "outputs": [],
   "source": [
    "beta, gamma = 0.23, 0.1\n",
    "\n",
    "t = np.linspace(0, 160, 160)\n",
    "S, I, R = SIR_model(beta, gamma, t, I0=8, N=1000, R0=0)"
   ]
  },
  {
   "cell_type": "code",
   "execution_count": 141,
   "metadata": {},
   "outputs": [
    {
     "data": {
      "image/png": "[encoded data removed]",
      "text/plain": [
       "<Figure size 504x360 with 1 Axes>"
      ]
     },
     "metadata": {
      "needs_background": "light"
     },
     "output_type": "display_data"
    }
   ],
   "source": [
    "fig, ax = plt.subplots(figsize=(7,5))\n",
    "ax.plot(t, S, 'b', lw=2, label='Susceptible')\n",
    "ax.plot(t, I, 'r', lw=2, label='Infected')\n",
    "ax.plot(t, R, 'g', lw=2, label='Recovered')\n",
    "ax.set_xlabel('Time /days')\n",
    "ax.set_ylabel('Number (1000s)')\n",
    "ax.set_ylim(-20,1120)\n",
    "ax.legend(loc=\"upper right\",prop={'size': 12});"
   ]
  },
  {
   "cell_type": "markdown",
   "metadata": {},
   "source": [
    "# 3. Random Sample Generation\n",
    "\n",
    "In this step, we will use Latin Hypercube method to generate representative samples of the uncertain input parameters. Those generated samples will be used in the subsequent Monte Carlo simulation."
   ]
  },
  {
   "cell_type": "code",
   "execution_count": 142,
   "metadata": {},
   "outputs": [],
   "source": [
    "# Latin Hypercube sampling\n",
    "sample_num = 1000\n",
    "samples = lhs(2, samples=sample_num, criterion='maximin')"
   ]
  },
  {
   "cell_type": "code",
   "execution_count": 71,
   "metadata": {},
   "outputs": [],
   "source": [
    "# Transform the samples to our target distributions\n",
    "\n",
    "# Transform beta\n",
    "beta_samples = norm(loc=0.23, scale=0.02).ppf(samples[:,1])\n",
    "\n",
    "# Transform gamma\n",
    "gamma_samples = norm(loc=0.1, scale=0.02).ppf(samples[:,2])"
   ]
  },
  {
   "cell_type": "code",
   "execution_count": 1,
   "metadata": {
    "scrolled": false
   },
   "outputs": [
    {
     "ename": "NameError",
     "evalue": "name 'pd' is not defined",
     "output_type": "error",
     "traceback": [
      "\u001b[1;31m---------------------------------------------------------------------------\u001b[0m",
      "\u001b[1;31mNameError\u001b[0m                                 Traceback (most recent call last)",
      "\u001b[1;32m<ipython-input-1-121c19cb7d61>\u001b[0m in \u001b[0;36m<module>\u001b[1;34m\u001b[0m\n\u001b[0;32m      1\u001b[0m \u001b[1;31m# Visualize samples\u001b[0m\u001b[1;33m\u001b[0m\u001b[1;33m\u001b[0m\u001b[1;33m\u001b[0m\u001b[0m\n\u001b[1;32m----> 2\u001b[1;33m df_samples = pd.DataFrame({r\"$\\beta$\":beta_samples,\n\u001b[0m\u001b[0;32m      3\u001b[0m                           r\"$\\gamma$\":gamma_samples})\n\u001b[0;32m      4\u001b[0m \u001b[1;33m\u001b[0m\u001b[0m\n\u001b[0;32m      5\u001b[0m \u001b[0mplt\u001b[0m\u001b[1;33m.\u001b[0m\u001b[0mrcParams\u001b[0m\u001b[1;33m[\u001b[0m\u001b[1;34m\"axes.labelsize\"\u001b[0m\u001b[1;33m]\u001b[0m \u001b[1;33m=\u001b[0m \u001b[1;36m15\u001b[0m\u001b[1;33m\u001b[0m\u001b[1;33m\u001b[0m\u001b[0m\n",
      "\u001b[1;31mNameError\u001b[0m: name 'pd' is not defined"
     ]
    }
   ],
   "source": [
    "# Visualize samples\n",
    "df_samples = pd.DataFrame({r\"$\\beta$\":beta_samples,\n",
    "                          r\"$\\gamma$\":gamma_samples})\n",
    "\n",
    "plt.rcParams[\"axes.labelsize\"] = 15\n",
    "sns.jointplot(data=df_samples, x=r\"$\\beta$\", y=r\"$\\gamma$\", height=5);"
   ]
  },
  {
   "cell_type": "code",
   "execution_count": 178,
   "metadata": {},
   "outputs": [],
   "source": [
    "# Monte Carlo simulation\n",
    "susceptible, infection, recovery = (np.zeros((t.shape[0], sample_num)) for i in range(3))\n",
    "\n",
    "for i in range(sample_num):\n",
    "    S, I, R= SIR_model(beta_samples[i], gamma_samples[i],\n",
    "                       t, I0=8, N=1000, R0=0)\n",
    "    \n",
    "    susceptible[:,i] = S\n",
    "    infection[:,i] = I\n",
    "    recovery[:,i] = R"
   ]
  },
  {
   "cell_type": "code",
   "execution_count": null,
   "metadata": {},
   "outputs": [],
   "source": [
    "# Extract the output of interests\n"
   ]
  }
 ],
 "metadata": {
  "kernelspec": {
   "display_name": "Python 3",
   "language": "python",
   "name": "python3"
  },
  "language_info": {
   "codemirror_mode": {
    "name": "ipython",
    "version": 3
   },
   "file_extension": ".py",
   "mimetype": "text/x-python",
   "name": "python",
   "nbconvert_exporter": "python",
   "pygments_lexer": "ipython3",
   "version": "3.8.5"
  }
 },
 "nbformat": 4,
 "nbformat_minor": 4
}
